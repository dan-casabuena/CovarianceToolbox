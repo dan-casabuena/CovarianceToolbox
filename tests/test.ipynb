{
 "cells": [
  {
   "cell_type": "code",
   "execution_count": 10,
   "source": [
    "import pandas as pd\n",
    "import numpy as np\n",
    "\n",
    "X = np.array([[1,2,3], [4,5,6]])\n",
    "num_rows, num_cols = X.shape\n",
    "print(num_rows)\n",
    "print(num_cols)\n",
    "\n",
    "Y = pd.DataFrame([[1,2,3], [4,5,6]])\n",
    "print(Y)\n",
    "print(Y.shape[0])\n",
    "\n",
    "def bruh(X, default=X.shape[0]):\n",
    "    print(default)\n",
    "\n",
    "bruh(X)\n",
    "bruh(Y)\n",
    "bruh(X, 3)\n",
    "\n",
    "print(np.sqrt(4))"
   ],
   "outputs": [
    {
     "output_type": "stream",
     "name": "stdout",
     "text": [
      "2\n",
      "3\n",
      "   0  1  2\n",
      "0  1  2  3\n",
      "1  4  5  6\n",
      "2\n",
      "2\n",
      "2\n",
      "3\n",
      "2.0\n"
     ]
    }
   ],
   "metadata": {}
  }
 ],
 "metadata": {
  "orig_nbformat": 4,
  "language_info": {
   "name": "python",
   "version": "3.8.8",
   "mimetype": "text/x-python",
   "codemirror_mode": {
    "name": "ipython",
    "version": 3
   },
   "pygments_lexer": "ipython3",
   "nbconvert_exporter": "python",
   "file_extension": ".py"
  },
  "kernelspec": {
   "name": "python3",
   "display_name": "Python 3.8.8 64-bit ('base': conda)"
  },
  "interpreter": {
   "hash": "319c24ade14b7873a3f936c1569cf8c1853592b8350107cb8f60c9b2a2771b37"
  }
 },
 "nbformat": 4,
 "nbformat_minor": 2
}